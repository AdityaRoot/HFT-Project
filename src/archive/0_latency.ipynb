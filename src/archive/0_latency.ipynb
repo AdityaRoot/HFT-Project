{
 "cells": [
  {
   "cell_type": "code",
   "execution_count": 2,
   "id": "initial_id",
   "metadata": {
    "ExecuteTime": {
     "end_time": "2025-02-13T14:11:12.931402Z",
     "start_time": "2025-02-13T14:11:12.572449Z"
    }
   },
   "outputs": [],
   "source": [
    "import numpy as np\n",
    "from numba import njit\n",
    "import polars as pl\n",
    "from hftbacktest import LOCAL_EVENT, EXCH_EVENT\n",
    "\n",
    "@njit\n",
    "def generate_order_latency_nb(data, order_latency, mul_entry, offset_entry, mul_resp, offset_resp):\n",
    "    for i in range(len(data)):\n",
    "        exch_ts = data[i].exch_ts\n",
    "        local_ts = data[i].local_ts\n",
    "        feed_latency = local_ts - exch_ts\n",
    "        order_entry_latency = mul_entry * feed_latency + offset_entry\n",
    "        order_resp_latency = mul_resp * feed_latency + offset_resp\n",
    "\n",
    "        req_ts = local_ts\n",
    "        order_exch_ts = req_ts + order_entry_latency\n",
    "        resp_ts = order_exch_ts + order_resp_latency\n",
    "\n",
    "        order_latency[i].req_ts = req_ts\n",
    "        order_latency[i].exch_ts = order_exch_ts\n",
    "        order_latency[i].resp_ts = resp_ts\n",
    "\n",
    "def generate_order_latency(feed_file, output_file = None, mul_entry = 1, offset_entry = 0, mul_resp = 1, offset_resp = 0):\n",
    "    data = np.load(feed_file)['data']\n",
    "    df = pl.DataFrame(data)\n",
    "\n",
    "    df = df.filter(\n",
    "        (pl.col('ev') & EXCH_EVENT == EXCH_EVENT) & (pl.col('ev') & LOCAL_EVENT == LOCAL_EVENT)\n",
    "    ).with_columns(\n",
    "        pl.col('local_ts').alias('ts')\n",
    "    ).group_by_dynamic(\n",
    "        'ts', every='1000000000i'\n",
    "    ).agg(\n",
    "        pl.col('exch_ts').last(),\n",
    "        pl.col('local_ts').last()\n",
    "    ).drop('ts')\n",
    "\n",
    "    data = df.to_numpy(structured=True)\n",
    "\n",
    "    order_latency = np.zeros(len(data), dtype=[('req_ts', 'i8'), ('exch_ts', 'i8'), ('resp_ts', 'i8'), ('_padding', 'i8')])\n",
    "    generate_order_latency_nb(data, order_latency, mul_entry, offset_entry, mul_resp, offset_resp)\n",
    "\n",
    "    if output_file is not None:\n",
    "        np.savez_compressed(output_file, data=order_latency)\n",
    "\n",
    "    return order_latency"
   ]
  },
  {
   "cell_type": "code",
   "execution_count": 5,
   "id": "ccd8212f65ca2ec5",
   "metadata": {
    "ExecuteTime": {
     "end_time": "2025-02-13T14:11:25.384759Z",
     "start_time": "2025-02-13T14:11:23.227907Z"
    }
   },
   "outputs": [
    {
     "data": {
      "text/plain": [
       "array([(1722729600997891000, 1722729601047271168, 1722729601101140480, 0),\n",
       "       (1722729601998212000, 1722729602046845184, 1722729602099899648, 0),\n",
       "       (1722729602973103000, 1722729603038116352, 1722729603109039872, 0),\n",
       "       ...,\n",
       "       (1722815997996180000, 1722815998043677952, 1722815998095493888, 0),\n",
       "       (1722815998996199000, 1722815999042617856, 1722815999093256704, 0),\n",
       "       (1722815999996159000, 1722816000043633920, 1722816000095424768, 0)],\n",
       "      dtype=[('req_ts', '<i8'), ('exch_ts', '<i8'), ('resp_ts', '<i8'), ('_padding', '<i8')])"
      ]
     },
     "execution_count": 5,
     "metadata": {},
     "output_type": "execute_result"
    }
   ],
   "source": [
    "generate_order_latency('hft_db/btcusdt_20240804.npz', output_file= 'latency/btcusdt_20240804.npz', mul_entry=1.1, mul_resp=1.2)"
   ]
  }
 ],
 "metadata": {
  "kernelspec": {
   "display_name": "Python 3 (ipykernel)",
   "language": "python",
   "name": "python3"
  },
  "language_info": {
   "codemirror_mode": {
    "name": "ipython",
    "version": 3
   },
   "file_extension": ".py",
   "mimetype": "text/x-python",
   "name": "python",
   "nbconvert_exporter": "python",
   "pygments_lexer": "ipython3",
   "version": "3.12.4"
  }
 },
 "nbformat": 4,
 "nbformat_minor": 5
}
