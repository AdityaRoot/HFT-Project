{
 "cells": [
  {
   "cell_type": "code",
   "execution_count": 2,
   "id": "4e31f32cd67f190f",
   "metadata": {
    "ExecuteTime": {
     "end_time": "2025-01-16T08:20:36.066433Z",
     "start_time": "2025-01-16T08:20:34.566718Z"
    }
   },
   "outputs": [],
   "source": [
    "from hftbacktest.data.utils import tardis\n",
    "import polars as pl\n",
    "\n",
    "tardis.trade_schema = {\n",
    "    'exchange': pl.String,\n",
    "    'symbol': pl.String,\n",
    "    'timestamp': pl.Int64,\n",
    "    'local_timestamp': pl.Int64,\n",
    "    'id': pl.String,\n",
    "    'side': pl.String,\n",
    "    'price': pl.Float64,\n",
    "    'amount': pl.Float64,\n",
    "}\n",
    "\n",
    "# data = tardis.convert(\n",
    "#     [\"datasets/binance_trades.csv.gz\",\"datasets/binance_book.csv.gz\"]\n",
    "# )"
   ]
  },
  {
   "cell_type": "code",
   "execution_count": null,
   "id": "dc626c64ed875ca8",
   "metadata": {
    "ExecuteTime": {
     "start_time": "2025-01-16T08:20:50.033551Z"
    },
    "jupyter": {
     "is_executing": true
    }
   },
   "outputs": [
    {
     "name": "stdout",
     "output_type": "stream",
     "text": [
      "Reading datasets/bybit_trades_2024-08-05_BTCUSDT.csv.gz\n",
      "Reading datasets/bybit_incremental_book_L2_2024-08-05_BTCUSDT.csv.gz\n"
     ]
    }
   ],
   "source": [
    "x = 5\n",
    "tardis.convert(\n",
    "    [f'datasets/bybit_trades_2024-08-0{x}_BTCUSDT.csv.gz', f'datasets/bybit_incremental_book_L2_2024-08-0{x}_BTCUSDT.csv.gz'],\n",
    "    output_filename=f'hft_db/btcusdt_2024080{x}.npz',\n",
    "    buffer_size=10_000_000\n",
    ")\n",
    "\n",
    "# for i in range(1, 6):\n",
    "#     date = f'2024-08-0{i}'\n",
    "#     btc_trade_file = f'datasets/bybit_trades_2024-08-0{i}_BTCUSDT.csv.gz'\n",
    "#     eth_trade_file = f'datasets/bybit_trades_2024-08-0{i}_ETHUSDT.csv.gz'\n",
    "\n",
    "#     btc_book_file = f'datasets/bybit_incremental_book_L2_2024-08-0{i}_BTCUSDT.csv.gz'\n",
    "#     eth_book_file = f'datasets/bybit_incremental_book_L2_2024-08-0{i}_ETHUSDT.csv.gz'\n",
    "\n",
    "#     btc_output_file = f'hft_db/btcusdt_2024080{i}.npz'\n",
    "#     eth_output_file = f'hft_db/ethusdt_2024080{i}.npz'\n",
    "\n",
    "#     print(f'Processing BTC/USDT - {i}')\n",
    "#     _ = tardis.convert(\n",
    "#         [btc_trade_file, btc_book_file],\n",
    "#         output_filename=btc_output_file,\n",
    "#         buffer_size=20_000_000\n",
    "#     )\n",
    "#     print(f'Processing ETH/USDT - {i}')\n",
    "#     _ = tardis.convert(\n",
    "#         [eth_trade_file, eth_book_file],\n",
    "#         output_filename=eth_output_file,\n",
    "#         buffer_size=20_000_000\n",
    "#     )\n",
    "\n"
   ]
  },
  {
   "cell_type": "code",
   "execution_count": 11,
   "id": "107aa0b8e69b18c3",
   "metadata": {
    "ExecuteTime": {
     "end_time": "2025-01-09T09:02:05.747244Z",
     "start_time": "2025-01-09T09:02:05.241925Z"
    }
   },
   "outputs": [
    {
     "data": {
      "text/plain": [
       "array([(2684354563, 1717199997894000000, 1717200000224723000, 0.18502,    0., 0, 0, 0.),\n",
       "       (2684354564, 1717199997894000000, 1717200000224723000, 0.1862 ,  146., 0, 0, 0.),\n",
       "       (2684354564, 1717199997894000000, 1717200000224723000, 0.18602,  236., 0, 0, 0.),\n",
       "       ...,\n",
       "       (3758096385, 1717286399754000000, 1717286399789461000, 0.1674 ,    9., 0, 0, 0.),\n",
       "       (3758096385, 1717286399795000000, 1717286399830001000, 0.16759,    9., 0, 0, 0.),\n",
       "       (3758096385, 1717286399814000000, 1717286399849473000, 0.1676 , 4001., 0, 0, 0.)],\n",
       "      dtype=[('ev', '<u8'), ('exch_ts', '<i8'), ('local_ts', '<i8'), ('px', '<f8'), ('qty', '<f8'), ('order_id', '<u8'), ('ival', '<i8'), ('fval', '<f8')])"
      ]
     },
     "execution_count": 11,
     "metadata": {},
     "output_type": "execute_result"
    }
   ],
   "source": [
    "import numpy as np\n",
    "np.load('beerusdt_20240601.npz')['data']"
   ]
  },
  {
   "cell_type": "code",
   "execution_count": 12,
   "id": "ad9def5d2598d6a3",
   "metadata": {
    "ExecuteTime": {
     "end_time": "2025-01-09T09:02:28.930728Z",
     "start_time": "2025-01-09T09:02:22.987811Z"
    }
   },
   "outputs": [
    {
     "data": {
      "text/plain": [
       "array([(3489660930, 1717200000131000000, 1717200000142177000, 67577.9, 4.0000e-03, 0, 0, 0.),\n",
       "       (3489660930, 1717200000136000000, 1717200000147175000, 67577.9, 4.0000e-03, 0, 0, 0.),\n",
       "       (3489660930, 1717200000140000000, 1717200000152690000, 67577.9, 2.0000e-03, 0, 0, 0.),\n",
       "       ...,\n",
       "       (3758096385, 1717286399962000000, 1717286399964864000, 67791.7, 1.3600e-01, 0, 0, 0.),\n",
       "       (3758096385, 1717286399962000000, 1717286399964864000, 67792. , 1.8400e-01, 0, 0, 0.),\n",
       "       (3758096385, 1717286399962000000, 1717286399964864000, 67799.2, 1.4053e+01, 0, 0, 0.)],\n",
       "      dtype=[('ev', '<u8'), ('exch_ts', '<i8'), ('local_ts', '<i8'), ('px', '<f8'), ('qty', '<f8'), ('order_id', '<u8'), ('ival', '<i8'), ('fval', '<f8')])"
      ]
     },
     "execution_count": 12,
     "metadata": {},
     "output_type": "execute_result"
    }
   ],
   "source": [
    "np.load('binance_20240601.npz')['data']"
   ]
  }
 ],
 "metadata": {
  "kernelspec": {
   "display_name": "Python 3 (ipykernel)",
   "language": "python",
   "name": "python3"
  },
  "language_info": {
   "codemirror_mode": {
    "name": "ipython",
    "version": 3
   },
   "file_extension": ".py",
   "mimetype": "text/x-python",
   "name": "python",
   "nbconvert_exporter": "python",
   "pygments_lexer": "ipython3",
   "version": "3.11.9"
  }
 },
 "nbformat": 4,
 "nbformat_minor": 5
}
