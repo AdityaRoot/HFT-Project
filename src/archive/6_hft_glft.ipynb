{
 "cells": [
  {
   "cell_type": "code",
   "execution_count": null,
   "id": "initial_id",
   "metadata": {
    "collapsed": true
   },
   "outputs": [],
   "source": [
    "import numpy as np\n",
    "from numba import njit, uint64, float64\n",
    "from numba.typed import Dict\n",
    "from hftbacktest import BUY, SELL, GTX, LIMIT\n",
    "from hftbacktest import BacktestAsset, ROIVectorMarketDepthBacktest, Recorder\n",
    "from hftbacktest.stats import LinearAssetRecord\n",
    "\n",
    "beerusdt = np.load('hft_db/beerusdt_20240601.npz')['data']\n",
    "beerusdt_latency = 'latency/beerusdt_20240601.npz'\n",
    "binance = np.load('hft_db/binance_20240601.npz')['data']\n",
    "binance_latency = 'latency/binance_20240601.npz'\n",
    "\n"
   ]
  }
 ],
 "metadata": {
  "kernelspec": {
   "display_name": "Python 3",
   "language": "python",
   "name": "python3"
  },
  "language_info": {
   "codemirror_mode": {
    "name": "ipython",
    "version": 2
   },
   "file_extension": ".py",
   "mimetype": "text/x-python",
   "name": "python",
   "nbconvert_exporter": "python",
   "pygments_lexer": "ipython2",
   "version": "2.7.6"
  }
 },
 "nbformat": 4,
 "nbformat_minor": 5
}
