{
 "cells": [
  {
   "cell_type": "code",
   "id": "initial_id",
   "metadata": {
    "collapsed": true,
    "ExecuteTime": {
     "end_time": "2024-07-14T14:01:09.386677Z",
     "start_time": "2024-07-14T14:01:06.757598Z"
    }
   },
   "source": [
    "import pandas as pd\n",
    "import numpy as np\n",
    "from model_BEERUSDT import ModelBEERUSDT\n",
    "from sklearn.preprocessing import MinMaxScaler\n",
    "from sklearn.model_selection import train_test_split\n",
    "from sklearn.metrics import mean_squared_error\n",
    "trades = pd.read_csv('../data/bybit_trades_2024-06-14_1000BEERUSDT.csv')\n",
    "quotes = pd.read_csv('../data/bybit_quotes_2024-06-14_1000BEERUSDT.csv')\n"
   ],
   "outputs": [],
   "execution_count": 5
  },
  {
   "metadata": {},
   "cell_type": "code",
   "outputs": [],
   "execution_count": null,
   "source": [
    "class BaselineModel(ModelBEERUSDT):\n",
    "    def __init__(self, quote_df, trade_df, starting_usd=1000):\n",
    "        super().__init__(quote_df, trade_df, starting_usd)"
   ],
   "id": "5d3bcd91bd3e0ad7"
  }
 ],
 "metadata": {
  "kernelspec": {
   "display_name": "Python 3",
   "language": "python",
   "name": "python3"
  },
  "language_info": {
   "codemirror_mode": {
    "name": "ipython",
    "version": 2
   },
   "file_extension": ".py",
   "mimetype": "text/x-python",
   "name": "python",
   "nbconvert_exporter": "python",
   "pygments_lexer": "ipython2",
   "version": "2.7.6"
  }
 },
 "nbformat": 4,
 "nbformat_minor": 5
}
