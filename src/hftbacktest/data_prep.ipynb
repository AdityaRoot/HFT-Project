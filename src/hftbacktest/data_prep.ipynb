{
 "cells": [
  {
   "cell_type": "code",
   "id": "initial_id",
   "metadata": {
    "collapsed": true,
    "ExecuteTime": {
     "end_time": "2025-01-10T11:54:53.686041Z",
     "start_time": "2025-01-10T11:54:53.114028Z"
    }
   },
   "source": [
    "import numpy as np\n",
    "from hftbacktest.data.utils import tardis\n",
    "import polars as pl"
   ],
   "outputs": [],
   "execution_count": 1
  },
  {
   "metadata": {
    "ExecuteTime": {
     "end_time": "2025-01-10T11:54:58.811822Z",
     "start_time": "2025-01-10T11:54:53.703089Z"
    }
   },
   "cell_type": "code",
   "source": [
    "trades_path = '../data/1000beerusdt_20240601/trades.csv.gz'\n",
    "book_path = '../data/1000beerusdt_20240601/incremental_book.csv.gz'\n",
    "\n",
    "tardis.trade_schema = {\n",
    "    'exchange': pl.String,\n",
    "    'symbol': pl.String,\n",
    "    'timestamp': pl.Int64,\n",
    "    'local_timestamp': pl.Int64,\n",
    "    'id': pl.String,\n",
    "    'side': pl.String,\n",
    "    'price': pl.Float64,\n",
    "    'amount': pl.Float64,\n",
    "}\n",
    "\n",
    "data = tardis.convert(\n",
    "    [trades_path, book_path],\n",
    ")\n",
    "\n"
   ],
   "id": "7032bb59caa0deac",
   "outputs": [
    {
     "name": "stdout",
     "output_type": "stream",
     "text": [
      "Reading ../data/1000beerusdt_20240601/trades.csv.gz\n",
      "Reading ../data/1000beerusdt_20240601/incremental_book.csv.gz\n",
      "Correcting the latency\n",
      "Correcting the event order\n"
     ]
    }
   ],
   "execution_count": 2
  },
  {
   "metadata": {
    "ExecuteTime": {
     "end_time": "2025-01-10T11:55:06.748935Z",
     "start_time": "2025-01-10T11:55:00.792425Z"
    }
   },
   "cell_type": "code",
   "source": [
    "_ = tardis.convert(\n",
    "    [trades_path, book_path],\n",
    "    output_filename='hft_db/beerusdt_20240601.npz',\n",
    "    # buffer_size=20_000_000\n",
    ")"
   ],
   "id": "8eb9edf4f7b20b2f",
   "outputs": [
    {
     "name": "stdout",
     "output_type": "stream",
     "text": [
      "Reading ../data/1000beerusdt_20240601/trades.csv.gz\n",
      "Reading ../data/1000beerusdt_20240601/incremental_book.csv.gz\n",
      "Correcting the latency\n",
      "Correcting the event order\n",
      "Saving to hft_db/beerusdt_20240601.npz\n"
     ]
    }
   ],
   "execution_count": 3
  }
 ],
 "metadata": {
  "kernelspec": {
   "display_name": "Python 3",
   "language": "python",
   "name": "python3"
  },
  "language_info": {
   "codemirror_mode": {
    "name": "ipython",
    "version": 2
   },
   "file_extension": ".py",
   "mimetype": "text/x-python",
   "name": "python",
   "nbconvert_exporter": "python",
   "pygments_lexer": "ipython2",
   "version": "2.7.6"
  }
 },
 "nbformat": 4,
 "nbformat_minor": 5
}
