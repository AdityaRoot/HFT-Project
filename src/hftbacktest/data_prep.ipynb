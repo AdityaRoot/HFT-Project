{
 "cells": [
  {
   "cell_type": "code",
   "id": "initial_id",
   "metadata": {
    "collapsed": true,
    "ExecuteTime": {
     "end_time": "2025-01-12T10:33:15.407903Z",
     "start_time": "2025-01-12T10:33:13.515939Z"
    }
   },
   "source": [
    "import numpy as np\n",
    "from hftbacktest.data.utils import tardis\n",
    "import polars as pl"
   ],
   "outputs": [],
   "execution_count": 1
  },
  {
   "metadata": {
    "ExecuteTime": {
     "end_time": "2025-01-12T11:15:33.292724Z",
     "start_time": "2025-01-12T11:15:30.428092Z"
    }
   },
   "cell_type": "code",
   "source": [
    "trades_path = '../data/1000beerusdt_20240601/trades.csv.gz'\n",
    "book_path = '../data/1000beerusdt_20240601/incremental_book.csv.gz'\n",
    "\n",
    "tardis.trade_schema = {\n",
    "    'exchange': pl.String,\n",
    "    'symbol': pl.String,\n",
    "    'timestamp': pl.Int64,\n",
    "    'local_timestamp': pl.Int64,\n",
    "    'id': pl.String,\n",
    "    'side': pl.String,\n",
    "    'price': pl.Float64,\n",
    "    'amount': pl.Float64,\n",
    "}\n",
    "\n",
    "data = tardis.convert(\n",
    "    [trades_path, book_path],\n",
    ")\n",
    "\n"
   ],
   "id": "7032bb59caa0deac",
   "outputs": [
    {
     "name": "stdout",
     "output_type": "stream",
     "text": [
      "Reading ../data/1000beerusdt_20240601/trades.csv.gz\n",
      "Reading ../data/1000beerusdt_20240601/incremental_book.csv.gz\n",
      "Correcting the latency\n",
      "Correcting the event order\n"
     ]
    }
   ],
   "execution_count": 3
  },
  {
   "metadata": {
    "ExecuteTime": {
     "end_time": "2025-01-12T12:56:08.179614Z",
     "start_time": "2025-01-12T12:56:08.033053Z"
    }
   },
   "cell_type": "code",
   "source": "pl.DataFrame(data)",
   "id": "1692317666b66e70",
   "outputs": [
    {
     "data": {
      "text/plain": [
       "shape: (3_818_422, 8)\n",
       "┌────────────┬────────────────────┬────────────────────┬─────────┬────────┬──────────┬──────┬──────┐\n",
       "│ ev         ┆ exch_ts            ┆ local_ts           ┆ px      ┆ qty    ┆ order_id ┆ ival ┆ fval │\n",
       "│ ---        ┆ ---                ┆ ---                ┆ ---     ┆ ---    ┆ ---      ┆ ---  ┆ ---  │\n",
       "│ u64        ┆ i64                ┆ i64                ┆ f64     ┆ f64    ┆ u64      ┆ i64  ┆ f64  │\n",
       "╞════════════╪════════════════════╪════════════════════╪═════════╪════════╪══════════╪══════╪══════╡\n",
       "│ 2684354563 ┆ 171719999789400000 ┆ 171720000022472300 ┆ 0.18502 ┆ 0.0    ┆ 0        ┆ 0    ┆ 0.0  │\n",
       "│            ┆ 0                  ┆ 0                  ┆         ┆        ┆          ┆      ┆      │\n",
       "│ 2684354564 ┆ 171719999789400000 ┆ 171720000022472300 ┆ 0.1862  ┆ 146.0  ┆ 0        ┆ 0    ┆ 0.0  │\n",
       "│            ┆ 0                  ┆ 0                  ┆         ┆        ┆          ┆      ┆      │\n",
       "│ 2684354564 ┆ 171719999789400000 ┆ 171720000022472300 ┆ 0.18602 ┆ 236.0  ┆ 0        ┆ 0    ┆ 0.0  │\n",
       "│            ┆ 0                  ┆ 0                  ┆         ┆        ┆          ┆      ┆      │\n",
       "│ 2684354564 ┆ 171719999789400000 ┆ 171720000022472300 ┆ 0.18601 ┆ 1297.0 ┆ 0        ┆ 0    ┆ 0.0  │\n",
       "│            ┆ 0                  ┆ 0                  ┆         ┆        ┆          ┆      ┆      │\n",
       "│ 2684354564 ┆ 171719999789400000 ┆ 171720000022472300 ┆ 0.18599 ┆ 236.0  ┆ 0        ┆ 0    ┆ 0.0  │\n",
       "│            ┆ 0                  ┆ 0                  ┆         ┆        ┆          ┆      ┆      │\n",
       "│ …          ┆ …                  ┆ …                  ┆ …       ┆ …      ┆ …        ┆ …    ┆ …    │\n",
       "│ 3758096385 ┆ 171728639975400000 ┆ 171728639978946100 ┆ 0.16759 ┆ 4009.0 ┆ 0        ┆ 0    ┆ 0.0  │\n",
       "│            ┆ 0                  ┆ 0                  ┆         ┆        ┆          ┆      ┆      │\n",
       "│ 3758096385 ┆ 171728639975400000 ┆ 171728639978946100 ┆ 0.16758 ┆ 0.0    ┆ 0        ┆ 0    ┆ 0.0  │\n",
       "│            ┆ 0                  ┆ 0                  ┆         ┆        ┆          ┆      ┆      │\n",
       "│ 3758096385 ┆ 171728639975400000 ┆ 171728639978946100 ┆ 0.1674  ┆ 9.0    ┆ 0        ┆ 0    ┆ 0.0  │\n",
       "│            ┆ 0                  ┆ 0                  ┆         ┆        ┆          ┆      ┆      │\n",
       "│ 3758096385 ┆ 171728639979500000 ┆ 171728639983000100 ┆ 0.16759 ┆ 9.0    ┆ 0        ┆ 0    ┆ 0.0  │\n",
       "│            ┆ 0                  ┆ 0                  ┆         ┆        ┆          ┆      ┆      │\n",
       "│ 3758096385 ┆ 171728639981400000 ┆ 171728639984947300 ┆ 0.1676  ┆ 4001.0 ┆ 0        ┆ 0    ┆ 0.0  │\n",
       "│            ┆ 0                  ┆ 0                  ┆         ┆        ┆          ┆      ┆      │\n",
       "└────────────┴────────────────────┴────────────────────┴─────────┴────────┴──────────┴──────┴──────┘"
      ],
      "text/html": [
       "<div><style>\n",
       ".dataframe > thead > tr,\n",
       ".dataframe > tbody > tr {\n",
       "  text-align: right;\n",
       "  white-space: pre-wrap;\n",
       "}\n",
       "</style>\n",
       "<small>shape: (3_818_422, 8)</small><table border=\"1\" class=\"dataframe\"><thead><tr><th>ev</th><th>exch_ts</th><th>local_ts</th><th>px</th><th>qty</th><th>order_id</th><th>ival</th><th>fval</th></tr><tr><td>u64</td><td>i64</td><td>i64</td><td>f64</td><td>f64</td><td>u64</td><td>i64</td><td>f64</td></tr></thead><tbody><tr><td>2684354563</td><td>1717199997894000000</td><td>1717200000224723000</td><td>0.18502</td><td>0.0</td><td>0</td><td>0</td><td>0.0</td></tr><tr><td>2684354564</td><td>1717199997894000000</td><td>1717200000224723000</td><td>0.1862</td><td>146.0</td><td>0</td><td>0</td><td>0.0</td></tr><tr><td>2684354564</td><td>1717199997894000000</td><td>1717200000224723000</td><td>0.18602</td><td>236.0</td><td>0</td><td>0</td><td>0.0</td></tr><tr><td>2684354564</td><td>1717199997894000000</td><td>1717200000224723000</td><td>0.18601</td><td>1297.0</td><td>0</td><td>0</td><td>0.0</td></tr><tr><td>2684354564</td><td>1717199997894000000</td><td>1717200000224723000</td><td>0.18599</td><td>236.0</td><td>0</td><td>0</td><td>0.0</td></tr><tr><td>&hellip;</td><td>&hellip;</td><td>&hellip;</td><td>&hellip;</td><td>&hellip;</td><td>&hellip;</td><td>&hellip;</td><td>&hellip;</td></tr><tr><td>3758096385</td><td>1717286399754000000</td><td>1717286399789461000</td><td>0.16759</td><td>4009.0</td><td>0</td><td>0</td><td>0.0</td></tr><tr><td>3758096385</td><td>1717286399754000000</td><td>1717286399789461000</td><td>0.16758</td><td>0.0</td><td>0</td><td>0</td><td>0.0</td></tr><tr><td>3758096385</td><td>1717286399754000000</td><td>1717286399789461000</td><td>0.1674</td><td>9.0</td><td>0</td><td>0</td><td>0.0</td></tr><tr><td>3758096385</td><td>1717286399795000000</td><td>1717286399830001000</td><td>0.16759</td><td>9.0</td><td>0</td><td>0</td><td>0.0</td></tr><tr><td>3758096385</td><td>1717286399814000000</td><td>1717286399849473000</td><td>0.1676</td><td>4001.0</td><td>0</td><td>0</td><td>0.0</td></tr></tbody></table></div>"
      ]
     },
     "execution_count": 7,
     "metadata": {},
     "output_type": "execute_result"
    }
   ],
   "execution_count": 7
  },
  {
   "metadata": {
    "ExecuteTime": {
     "end_time": "2025-01-12T11:15:50.212842Z",
     "start_time": "2025-01-12T11:15:46.550068Z"
    }
   },
   "cell_type": "code",
   "source": [
    "_ = tardis.convert(\n",
    "    [trades_path, book_path],\n",
    "    output_filename='hft_db/beerusdt_20240601.npz',\n",
    "    # buffer_size=20_000_000\n",
    ")"
   ],
   "id": "8eb9edf4f7b20b2f",
   "outputs": [
    {
     "name": "stdout",
     "output_type": "stream",
     "text": [
      "Reading ../data/1000beerusdt_20240601/trades.csv.gz\n",
      "Reading ../data/1000beerusdt_20240601/incremental_book.csv.gz\n",
      "Correcting the latency\n",
      "Correcting the event order\n",
      "Saving to hft_db/beerusdt_20240601.npz\n"
     ]
    }
   ],
   "execution_count": 4
  }
 ],
 "metadata": {
  "kernelspec": {
   "display_name": "Python 3",
   "language": "python",
   "name": "python3"
  },
  "language_info": {
   "codemirror_mode": {
    "name": "ipython",
    "version": 2
   },
   "file_extension": ".py",
   "mimetype": "text/x-python",
   "name": "python",
   "nbconvert_exporter": "python",
   "pygments_lexer": "ipython2",
   "version": "2.7.6"
  }
 },
 "nbformat": 4,
 "nbformat_minor": 5
}
