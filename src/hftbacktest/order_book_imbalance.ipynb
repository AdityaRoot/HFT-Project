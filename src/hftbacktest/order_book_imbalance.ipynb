{
 "cells": [
  {
   "cell_type": "code",
   "id": "initial_id",
   "metadata": {
    "collapsed": true,
    "ExecuteTime": {
     "end_time": "2025-01-13T08:14:52.228476Z",
     "start_time": "2025-01-13T08:14:51.708033Z"
    }
   },
   "source": [
    "from numba import njit\n",
    "from hftbacktest import GTX, LIMIT, Recorder, HashMapMarketDepthBacktest, BacktestAsset\n",
    "from hftbacktest.stats import LinearAssetRecord\n",
    "import numpy as np\n",
    "\n",
    "beerusdt_20240601 = np.load('hft_db/beerusdt_20240601.npz')['data']\n",
    "\n",
    "asset = (\n",
    "    BacktestAsset()\n",
    "        .data(beerusdt_20240601)\n",
    "        .linear_asset(1.0)\n",
    "        .constant_latency(10_000_000, 10_000_000)\n",
    "        .risk_adverse_queue_model()\n",
    "        .no_partial_fill_exchange()\n",
    "        .trading_value_fee_model(0.0002, 0.0007)\n",
    "        .tick_size(0.00001)\n",
    "        .lot_size(0.1)\n",
    ")"
   ],
   "outputs": [],
   "execution_count": 2
  },
  {
   "metadata": {},
   "cell_type": "code",
   "outputs": [],
   "execution_count": null,
   "source": [
    "@njit\n",
    "def orderbookimbalance(hbt, out):\n",
    "    roi_lb_tick = int(round(30000 / 0.1))\n",
    "    roi_ub_tick = int(round(90000 / 0.1))\n",
    "\n",
    "    while hbt.elapse(10 * 1e9) == 0:\n",
    "        depth = hbt.depth(0)\n",
    "\n",
    "        mid_price = (depth.best_bid + depth.best_ask) / 2.0\n",
    "\n",
    "        sum_ask_qty_50bp = 0.0\n",
    "        sum_ask_qty = 0.0\n",
    "        for price_tick in range(depth.best_ask_tick, roi_ub_tick + 1):\n",
    "            if price_tick < roi_lb_tick or price_tick > roi_ub_tick:\n",
    "                continue\n",
    "            t = price_tick - roi_lb_tick\n",
    "\n",
    "            ask_price = price_tick * depth.tick_size\n",
    "            depth_from_mid = (ask_price - mid_price) / mid_price\n",
    "            if depth_from_mid > 0.01:\n",
    "                break\n",
    "            sum_ask_qty += depth.ask_depth[t]\n",
    "\n",
    "            if depth_from_mid <= 0.005:\n",
    "                sum_ask_qty_50bp = sum_ask_qty\n",
    "\n",
    "\n",
    "        sum_bid_qty_50bp = 0.0\n",
    "        sum_bid_qty = 0.0\n",
    "        for price_tick in range(depth.best_bid_tick, roi_lb_tick - 1, -1):\n",
    "            if price_tick < roi_lb_tick or price_tick > roi_ub_tick:\n",
    "                continue\n",
    "            t = price_tick - roi_lb_tick\n",
    "\n",
    "            bid_price = price_tick * depth.tick_size\n",
    "            depth_from_mid = (mid_price - bid_price) / mid_price\n",
    "            if depth_from_mid > 0.01:\n",
    "                break\n",
    "            sum_bid_qty += depth.bid_depth[t]\n",
    "\n",
    "            if depth_from_mid <= 0.005:\n",
    "                sum_bid_qty_50bp = sum_bid_qty\n",
    "\n",
    "        imbalance_50bp = sum_bid_qty_50bp - sum_ask_qty_50bp\n",
    "        imbalance_1pct = sum_bid_qty - sum_ask_qty\n",
    "        imbalance_tob = depth.bid_depth[depth.best_bid_tick - roi_lb_tick] - depth.ask_depth[depth.best_ask_tick - roi_lb_tick]\n",
    "\n",
    "        out.append((hbt.current_timestamp, imbalance_tob, imbalance_50bp, imbalance_1pct))\n",
    "    return True"
   ],
   "id": "39fd82458177ba9d"
  }
 ],
 "metadata": {
  "kernelspec": {
   "display_name": "Python 3",
   "language": "python",
   "name": "python3"
  },
  "language_info": {
   "codemirror_mode": {
    "name": "ipython",
    "version": 2
   },
   "file_extension": ".py",
   "mimetype": "text/x-python",
   "name": "python",
   "nbconvert_exporter": "python",
   "pygments_lexer": "ipython2",
   "version": "2.7.6"
  }
 },
 "nbformat": 4,
 "nbformat_minor": 5
}
